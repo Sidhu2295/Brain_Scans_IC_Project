{
 "cells": [
  {
   "cell_type": "code",
   "execution_count": 1,
   "id": "1007ccd8",
   "metadata": {},
   "outputs": [],
   "source": [
    "import tensorflow as tf\n",
    "from tensorflow.keras import models, layers\n",
    "import matplotlib.pyplot as plt\n",
    "import pandas as pd\n",
    "import numpy as np\n",
    "import seaborn as sns"
   ]
  },
  {
   "cell_type": "code",
   "execution_count": 20,
   "id": "ae93a676",
   "metadata": {},
   "outputs": [],
   "source": [
    "IMG_SIZE = 190\n",
    "BATCH_SIZE = 32"
   ]
  },
  {
   "cell_type": "code",
   "execution_count": 21,
   "id": "63900714",
   "metadata": {},
   "outputs": [
    {
     "name": "stderr",
     "output_type": "stream",
     "text": [
      "Copying files: 253 files [00:00, 858.86 files/s]\n"
     ]
    }
   ],
   "source": [
    "import splitfolders\n",
    "data_dir = '../Brain_Project/brain_tumor_dataset'\n",
    "splitfolders.ratio(data_dir,output='brain_dataset', ratio=(.8,.1,.1), seed=1337)"
   ]
  },
  {
   "cell_type": "code",
   "execution_count": 22,
   "id": "19cc7335",
   "metadata": {},
   "outputs": [],
   "source": [
    "train_datagen = tf.keras.preprocessing.image.ImageDataGenerator(\n",
    "    rescale=1./255,\n",
    "    horizontal_flip=True,\n",
    "    zoom_range=[0, 0.3]\n",
    ")    \n",
    "\n",
    "test_datagen = tf.keras.preprocessing.image.ImageDataGenerator(\n",
    "    rescale=1./255\n",
    ")\n",
    "\n",
    "val_datagen = tf.keras.preprocessing.image.ImageDataGenerator(\n",
    "    rescale=1./255\n",
    ")"
   ]
  },
  {
   "cell_type": "code",
   "execution_count": 23,
   "id": "3e85a11a",
   "metadata": {},
   "outputs": [],
   "source": [
    "train_dir = '../Brain_Project/brain_dataset/train'\n",
    "test_dir = '../Brain_Project/brain_dataset/test'\n",
    "val_dir = '../Brain_Project/brain_dataset/val'"
   ]
  },
  {
   "cell_type": "code",
   "execution_count": 24,
   "id": "31cdaba8",
   "metadata": {},
   "outputs": [
    {
     "name": "stdout",
     "output_type": "stream",
     "text": [
      "Found 202 images belonging to 2 classes.\n",
      "Found 27 images belonging to 2 classes.\n",
      "Found 24 images belonging to 2 classes.\n"
     ]
    }
   ],
   "source": [
    "train_generator = train_datagen.flow_from_directory(\n",
    "    train_dir,\n",
    "    target_size=(IMG_SIZE, IMG_SIZE),\n",
    "    batch_size=BATCH_SIZE,\n",
    "    shuffle=True,\n",
    "    seed=42\n",
    ")\n",
    "\n",
    "test_generator = test_datagen.flow_from_directory(\n",
    "    test_dir,\n",
    "    target_size=(IMG_SIZE, IMG_SIZE),\n",
    "    batch_size=BATCH_SIZE,\n",
    ")\n",
    "\n",
    "val_generator = val_datagen.flow_from_directory(\n",
    "    val_dir,\n",
    "    target_size=(IMG_SIZE, IMG_SIZE),\n",
    "    batch_size=BATCH_SIZE,\n",
    "    shuffle=True,\n",
    "    seed=42\n",
    ")"
   ]
  },
  {
   "cell_type": "code",
   "execution_count": 25,
   "id": "41195ff8",
   "metadata": {},
   "outputs": [],
   "source": [
    "import tensorflow_hub as hub\n",
    "\n",
    "Inception_V3 = hub.KerasLayer('https://tfhub.dev/google/imagenet/inception_v3/classification/5')"
   ]
  },
  {
   "cell_type": "code",
   "execution_count": 26,
   "id": "4a1b12f9",
   "metadata": {},
   "outputs": [],
   "source": [
    "inputs = layers.Input(shape=(IMG_SIZE,IMG_SIZE,3))\n",
    "x = Inception_V3(inputs)\n",
    "x = layers.Dense(64, activation='relu')(x)\n",
    "outputs = layers.Dense(2, activation='softmax')(x)\n",
    "\n",
    "model_0 = tf.keras.Model(inputs, outputs, name='model_0_V3_trainable')"
   ]
  },
  {
   "cell_type": "code",
   "execution_count": 27,
   "id": "b522683e",
   "metadata": {},
   "outputs": [],
   "source": [
    "model_0.compile(\n",
    "    loss='categorical_crossentropy',\n",
    "    optimizer=tf.keras.optimizers.Adam(),\n",
    "    metrics=['accuracy']\n",
    ")"
   ]
  },
  {
   "cell_type": "code",
   "execution_count": 28,
   "id": "2defa893",
   "metadata": {},
   "outputs": [
    {
     "name": "stdout",
     "output_type": "stream",
     "text": [
      "Model: \"model_0_V3_trainable\"\n",
      "_________________________________________________________________\n",
      "Layer (type)                 Output Shape              Param #   \n",
      "=================================================================\n",
      "input_4 (InputLayer)         [(None, 190, 190, 3)]     0         \n",
      "_________________________________________________________________\n",
      "keras_layer_1 (KerasLayer)   (None, 1001)              23853833  \n",
      "_________________________________________________________________\n",
      "dense_4 (Dense)              (None, 64)                64128     \n",
      "_________________________________________________________________\n",
      "dense_5 (Dense)              (None, 2)                 130       \n",
      "=================================================================\n",
      "Total params: 23,918,091\n",
      "Trainable params: 64,258\n",
      "Non-trainable params: 23,853,833\n",
      "_________________________________________________________________\n"
     ]
    }
   ],
   "source": [
    "model_0.summary()"
   ]
  },
  {
   "cell_type": "code",
   "execution_count": 29,
   "id": "448a38e8",
   "metadata": {},
   "outputs": [
    {
     "name": "stdout",
     "output_type": "stream",
     "text": [
      "Epoch 1/10\n",
      "7/7 [==============================] - 13s 792ms/step - loss: 1.3032 - accuracy: 0.6040 - val_loss: 2.2839 - val_accuracy: 0.3750\n",
      "Epoch 2/10\n",
      "7/7 [==============================] - 3s 385ms/step - loss: 0.9117 - accuracy: 0.6931 - val_loss: 1.8488 - val_accuracy: 0.4583\n",
      "Epoch 3/10\n",
      "7/7 [==============================] - 3s 421ms/step - loss: 0.7978 - accuracy: 0.6683 - val_loss: 1.8174 - val_accuracy: 0.4583\n",
      "Epoch 4/10\n",
      "7/7 [==============================] - 3s 337ms/step - loss: 0.6993 - accuracy: 0.7228 - val_loss: 1.7931 - val_accuracy: 0.4583\n",
      "Epoch 5/10\n",
      "7/7 [==============================] - 3s 394ms/step - loss: 0.5885 - accuracy: 0.7079 - val_loss: 1.7405 - val_accuracy: 0.5417\n",
      "Epoch 6/10\n",
      "7/7 [==============================] - 3s 378ms/step - loss: 0.6731 - accuracy: 0.7277 - val_loss: 1.6752 - val_accuracy: 0.5417\n",
      "Epoch 7/10\n",
      "7/7 [==============================] - 3s 375ms/step - loss: 0.5816 - accuracy: 0.7822 - val_loss: 1.7316 - val_accuracy: 0.5000\n",
      "Epoch 8/10\n",
      "7/7 [==============================] - 3s 379ms/step - loss: 0.5772 - accuracy: 0.7475 - val_loss: 1.3111 - val_accuracy: 0.4167\n",
      "Epoch 9/10\n",
      "7/7 [==============================] - 3s 375ms/step - loss: 0.5112 - accuracy: 0.7723 - val_loss: 1.1708 - val_accuracy: 0.5417\n",
      "Epoch 10/10\n",
      "7/7 [==============================] - 3s 353ms/step - loss: 0.5736 - accuracy: 0.7376 - val_loss: 1.1881 - val_accuracy: 0.5000\n"
     ]
    }
   ],
   "source": [
    "model_0_history = model_0.fit(\n",
    "    train_generator,\n",
    "    epochs=10,\n",
    "    validation_data = val_generator\n",
    ")"
   ]
  },
  {
   "cell_type": "code",
   "execution_count": 30,
   "id": "06878498",
   "metadata": {},
   "outputs": [
    {
     "name": "stdout",
     "output_type": "stream",
     "text": [
      "1/1 [==============================] - 1s 1s/step - loss: 1.3130 - accuracy: 0.4444\n"
     ]
    },
    {
     "data": {
      "text/plain": [
       "[1.3129980564117432, 0.4444444477558136]"
      ]
     },
     "execution_count": 30,
     "metadata": {},
     "output_type": "execute_result"
    }
   ],
   "source": [
    "model_0.evaluate(test_generator)"
   ]
  },
  {
   "cell_type": "code",
   "execution_count": 31,
   "id": "3ecadd85",
   "metadata": {},
   "outputs": [
    {
     "data": {
      "text/plain": [
       "array([[0.8693467 , 0.13065335],\n",
       "       [0.04204755, 0.9579525 ],\n",
       "       [0.9766758 , 0.02332421],\n",
       "       [0.33742294, 0.66257703],\n",
       "       [0.8431155 , 0.15688454],\n",
       "       [0.0198065 , 0.98019356],\n",
       "       [0.64538103, 0.35461897],\n",
       "       [0.4117321 , 0.5882679 ],\n",
       "       [0.2570822 , 0.7429178 ],\n",
       "       [0.48984474, 0.51015526],\n",
       "       [0.93620694, 0.0637931 ],\n",
       "       [0.12843399, 0.87156606],\n",
       "       [0.02198483, 0.9780151 ],\n",
       "       [0.9151352 , 0.08486482],\n",
       "       [0.5948723 , 0.40512767],\n",
       "       [0.88573784, 0.11426212],\n",
       "       [0.98240155, 0.01759843],\n",
       "       [0.99464417, 0.00535581],\n",
       "       [0.8408928 , 0.15910716],\n",
       "       [0.98697704, 0.01302295],\n",
       "       [0.5140867 , 0.48591325],\n",
       "       [0.82793945, 0.1720605 ],\n",
       "       [0.33290213, 0.6670979 ],\n",
       "       [0.88377917, 0.11622088],\n",
       "       [0.03440633, 0.9655937 ],\n",
       "       [0.12483011, 0.8751699 ],\n",
       "       [0.75566155, 0.24433844]], dtype=float32)"
      ]
     },
     "execution_count": 31,
     "metadata": {},
     "output_type": "execute_result"
    }
   ],
   "source": [
    "model_0_pred_probs = model_0.predict(test_generator)\n",
    "model_0_pred_probs"
   ]
  },
  {
   "cell_type": "code",
   "execution_count": 32,
   "id": "a8fb51c6",
   "metadata": {},
   "outputs": [
    {
     "data": {
      "text/plain": [
       "<tf.Tensor: shape=(27,), dtype=int64, numpy=\n",
       "array([0, 1, 0, 1, 0, 1, 0, 1, 1, 1, 0, 1, 1, 0, 0, 0, 0, 0, 0, 0, 0, 0,\n",
       "       1, 0, 1, 1, 0], dtype=int64)>"
      ]
     },
     "execution_count": 32,
     "metadata": {},
     "output_type": "execute_result"
    }
   ],
   "source": [
    "model_0_preds = tf.argmax(model_0_pred_probs, axis=1)\n",
    "model_0_preds"
   ]
  },
  {
   "cell_type": "code",
   "execution_count": 33,
   "id": "e71d9872",
   "metadata": {},
   "outputs": [],
   "source": [
    "Inception_V3_untrainable = tf.keras.applications.inception_v3.InceptionV3(include_top=False)\n",
    "\n",
    "for layer in Inception_V3_untrainable.layers:\n",
    "    layer.trainable=True"
   ]
  },
  {
   "cell_type": "code",
   "execution_count": 34,
   "id": "d4f2a28e",
   "metadata": {},
   "outputs": [],
   "source": [
    "inputs = layers.Input(shape=(IMG_SIZE,IMG_SIZE,3))\n",
    "x = Inception_V3_untrainable(inputs)\n",
    "x = layers.Dense(64, activation='relu')(x)\n",
    "x = layers.GlobalAveragePooling2D()(x)\n",
    "outputs = layers.Dense(2, activation='softmax')(x)\n",
    "\n",
    "model_1 = tf.keras.Model(inputs, outputs, name='model_1_V3_untrainable')"
   ]
  },
  {
   "cell_type": "code",
   "execution_count": 35,
   "id": "b0a40b81",
   "metadata": {},
   "outputs": [],
   "source": [
    "model_1.compile(\n",
    "    loss='categorical_crossentropy',\n",
    "    optimizer=tf.keras.optimizers.Adam(),\n",
    "    metrics=['accuracy']\n",
    ")"
   ]
  },
  {
   "cell_type": "code",
   "execution_count": 36,
   "id": "9a98e38f",
   "metadata": {},
   "outputs": [
    {
     "name": "stdout",
     "output_type": "stream",
     "text": [
      "Model: \"model_1_V3_untrainable\"\n",
      "_________________________________________________________________\n",
      "Layer (type)                 Output Shape              Param #   \n",
      "=================================================================\n",
      "input_6 (InputLayer)         [(None, 190, 190, 3)]     0         \n",
      "_________________________________________________________________\n",
      "inception_v3 (Functional)    (None, None, None, 2048)  21802784  \n",
      "_________________________________________________________________\n",
      "dense_6 (Dense)              (None, 4, 4, 64)          131136    \n",
      "_________________________________________________________________\n",
      "global_average_pooling2d_1 ( (None, 64)                0         \n",
      "_________________________________________________________________\n",
      "dense_7 (Dense)              (None, 2)                 130       \n",
      "=================================================================\n",
      "Total params: 21,934,050\n",
      "Trainable params: 21,899,618\n",
      "Non-trainable params: 34,432\n",
      "_________________________________________________________________\n"
     ]
    }
   ],
   "source": [
    "model_1.summary()"
   ]
  },
  {
   "cell_type": "code",
   "execution_count": 37,
   "id": "5c843951",
   "metadata": {},
   "outputs": [
    {
     "name": "stdout",
     "output_type": "stream",
     "text": [
      "Epoch 1/10\n",
      "7/7 [==============================] - 19s 978ms/step - loss: 0.8694 - accuracy: 0.5495 - val_loss: 0.7483 - val_accuracy: 0.6250\n",
      "Epoch 2/10\n",
      "7/7 [==============================] - 3s 439ms/step - loss: 0.6732 - accuracy: 0.6089 - val_loss: 4.8025 - val_accuracy: 0.6250\n",
      "Epoch 3/10\n",
      "7/7 [==============================] - 3s 441ms/step - loss: 0.6721 - accuracy: 0.6089 - val_loss: 6.3389 - val_accuracy: 0.6250\n",
      "Epoch 4/10\n",
      "7/7 [==============================] - 3s 440ms/step - loss: 0.6104 - accuracy: 0.6287 - val_loss: 2.7954 - val_accuracy: 0.5417\n",
      "Epoch 5/10\n",
      "7/7 [==============================] - 3s 437ms/step - loss: 0.5788 - accuracy: 0.7079 - val_loss: 151.4320 - val_accuracy: 0.6250\n",
      "Epoch 6/10\n",
      "7/7 [==============================] - 3s 453ms/step - loss: 0.5637 - accuracy: 0.7228 - val_loss: 17.3001 - val_accuracy: 0.3750\n",
      "Epoch 7/10\n",
      "7/7 [==============================] - 3s 504ms/step - loss: 0.5146 - accuracy: 0.7574 - val_loss: 2260.8145 - val_accuracy: 0.3750\n",
      "Epoch 8/10\n",
      "7/7 [==============================] - 3s 446ms/step - loss: 0.5401 - accuracy: 0.7475 - val_loss: 3132.7761 - val_accuracy: 0.3750\n",
      "Epoch 9/10\n",
      "7/7 [==============================] - 3s 418ms/step - loss: 0.5306 - accuracy: 0.7327 - val_loss: 102.4202 - val_accuracy: 0.3750\n",
      "Epoch 10/10\n",
      "7/7 [==============================] - 3s 434ms/step - loss: 0.5394 - accuracy: 0.7475 - val_loss: 27.7547 - val_accuracy: 0.3750\n"
     ]
    }
   ],
   "source": [
    "model_1_history = model_1.fit(\n",
    "    train_generator,\n",
    "    epochs=10,\n",
    "    validation_data = val_generator\n",
    ")"
   ]
  },
  {
   "cell_type": "code",
   "execution_count": null,
   "id": "05f15e8f",
   "metadata": {},
   "outputs": [],
   "source": []
  },
  {
   "cell_type": "code",
   "execution_count": null,
   "id": "4c53395e",
   "metadata": {},
   "outputs": [],
   "source": []
  }
 ],
 "metadata": {
  "kernelspec": {
   "display_name": "Python 3 (ipykernel)",
   "language": "python",
   "name": "python3"
  },
  "language_info": {
   "codemirror_mode": {
    "name": "ipython",
    "version": 3
   },
   "file_extension": ".py",
   "mimetype": "text/x-python",
   "name": "python",
   "nbconvert_exporter": "python",
   "pygments_lexer": "ipython3",
   "version": "3.9.13"
  }
 },
 "nbformat": 4,
 "nbformat_minor": 5
}
